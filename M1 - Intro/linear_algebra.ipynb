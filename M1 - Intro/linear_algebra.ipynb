{
 "cells": [
  {
   "cell_type": "markdown",
   "id": "8a7f8adc",
   "metadata": {},
   "source": [
    "### Dot product (vector - vector)"
   ]
  },
  {
   "cell_type": "code",
   "execution_count": 3,
   "id": "1eb0f53f",
   "metadata": {},
   "outputs": [
    {
     "name": "stdout",
     "output_type": "stream",
     "text": [
      "26.0\n",
      "26\n"
     ]
    }
   ],
   "source": [
    "import numpy as np\n",
    "\n",
    "def vector_vector_multiplication(u, v):\n",
    "    assert u.shape[0] == v.shape[0]\n",
    "\n",
    "    n = u.shape[0]\n",
    "    result = 0.0\n",
    "\n",
    "    for i in range(n):\n",
    "        result = result + u[i] * v[i]\n",
    "\n",
    "    return result\n",
    "\n",
    "u = np.array([1,2,3])\n",
    "v = np.array([3,4,5])\n",
    "\n",
    "print(vector_vector_multiplication(u,v))\n",
    "\n",
    "print(u.dot(v))"
   ]
  },
  {
   "cell_type": "markdown",
   "id": "10d3388b",
   "metadata": {},
   "source": [
    "#### Matrix-vector multiplication"
   ]
  },
  {
   "cell_type": "code",
   "execution_count": null,
   "id": "aa380704",
   "metadata": {},
   "outputs": [
    {
     "name": "stdout",
     "output_type": "stream",
     "text": [
      "[np.int64(26), np.int64(65), np.int64(68)]\n"
     ]
    }
   ],
   "source": [
    "def matrix_vector_multiplication(u, v):\n",
    "    assert u.shape[1] == v.shape[0]\n",
    "\n",
    "    n = u.shape[0]\n",
    "\n",
    "    dot_p = []\n",
    "\n",
    "    for i in range(n):\n",
    "        dot_p.append(u[i].dot(v))\n",
    "\n",
    "    return dot_p\n",
    "\n",
    "u = np.array([[1,2,3], [2,6,7], [7,8,3]])\n",
    "v = np.array([3,4,5])\n",
    "\n",
    "print(matrix_vector_multiplication(u, v))\n",
    "np.matmul(u, v).sum()\n",
    "sum(u.dot(v))\n"
   ]
  },
  {
   "cell_type": "code",
   "execution_count": 48,
   "id": "cd320a45",
   "metadata": {},
   "outputs": [
    {
     "data": {
      "text/plain": [
       "array([[18. , 20. , 13. ],\n",
       "       [ 7. ,  6. ,  5. ],\n",
       "       [ 6. ,  8.5,  9. ]])"
      ]
     },
     "execution_count": 48,
     "metadata": {},
     "output_type": "execute_result"
    }
   ],
   "source": [
    "def matrix_matrix_multiplication(u, v):\n",
    "\n",
    "    assert u.shape[0] == v.shape[1] \n",
    "\n",
    "    v = np.transpose(v)\n",
    "    n = v.shape[0]\n",
    "    result = []\n",
    "\n",
    "    for i in range(n):\n",
    "        result.append(matrix_vector_multiplication(u, v[i]))\n",
    "\n",
    "    return np.transpose(result)\n",
    "\n",
    "\n",
    "u = np.array([[2,4,5,6], [1,2,1,2], [3,1,2,1]])\n",
    "v = np.array([[1,1,2], [1,0.5,1], [0,2,1], [2,1,0]])\n",
    "\n",
    "result = matrix_matrix_multiplication(u ,v)\n",
    "np.array(result)"
   ]
  },
  {
   "cell_type": "code",
   "execution_count": 52,
   "id": "2909257f",
   "metadata": {},
   "outputs": [
    {
     "data": {
      "text/plain": [
       "array([[1. , 1. , 2. ],\n",
       "       [1. , 0.5, 1. ],\n",
       "       [0. , 2. , 1. ],\n",
       "       [2. , 1. , 0. ]])"
      ]
     },
     "execution_count": 52,
     "metadata": {},
     "output_type": "execute_result"
    }
   ],
   "source": [
    "I = np.eye(3)\n",
    "v.dot(I)"
   ]
  },
  {
   "cell_type": "code",
   "execution_count": 55,
   "id": "2a17df4f",
   "metadata": {},
   "outputs": [
    {
     "data": {
      "text/plain": [
       "array([[1., 0., 0.],\n",
       "       [0., 1., 0.],\n",
       "       [0., 0., 1.]])"
      ]
     },
     "execution_count": 55,
     "metadata": {},
     "output_type": "execute_result"
    }
   ],
   "source": [
    "Vs = v[[0,1,2]]\n",
    "Vs_inv = np.linalg.inv(Vs)\n",
    "\n",
    "Vs_inv.dot(Vs)"
   ]
  }
 ],
 "metadata": {
  "kernelspec": {
   "display_name": ".venv",
   "language": "python",
   "name": "python3"
  },
  "language_info": {
   "codemirror_mode": {
    "name": "ipython",
    "version": 3
   },
   "file_extension": ".py",
   "mimetype": "text/x-python",
   "name": "python",
   "nbconvert_exporter": "python",
   "pygments_lexer": "ipython3",
   "version": "3.9.6"
  }
 },
 "nbformat": 4,
 "nbformat_minor": 5
}
