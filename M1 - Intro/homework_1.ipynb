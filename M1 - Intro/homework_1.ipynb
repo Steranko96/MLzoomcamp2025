{
 "cells": [
  {
   "cell_type": "markdown",
   "id": "a50d66bf",
   "metadata": {},
   "source": [
    "# ML Zoomcamp Homework 1"
   ]
  },
  {
   "cell_type": "code",
   "execution_count": 34,
   "id": "eeecc623",
   "metadata": {},
   "outputs": [],
   "source": [
    "import numpy as np\n",
    "import pandas as pd\n",
    "import wget "
   ]
  },
  {
   "cell_type": "markdown",
   "id": "c56cdb47",
   "metadata": {},
   "source": [
    "### Q1. Pandas Version"
   ]
  },
  {
   "cell_type": "code",
   "execution_count": 35,
   "id": "44dc1c3d",
   "metadata": {},
   "outputs": [
    {
     "data": {
      "text/plain": [
       "'2.3.3'"
      ]
     },
     "execution_count": 35,
     "metadata": {},
     "output_type": "execute_result"
    }
   ],
   "source": [
    "pd.__version__"
   ]
  },
  {
   "cell_type": "code",
   "execution_count": 36,
   "id": "efa82257",
   "metadata": {},
   "outputs": [],
   "source": [
    "url = \"https://raw.githubusercontent.com/alexeygrigorev/datasets/master/car_fuel_efficiency.csv\"\n",
    "#wget.download(url)\n",
    "\n",
    "data = pd.read_csv('car_fuel_efficiency.csv')"
   ]
  },
  {
   "cell_type": "markdown",
   "id": "b4fae028",
   "metadata": {},
   "source": [
    "### Q2. How many records in the dataset"
   ]
  },
  {
   "cell_type": "code",
   "execution_count": 37,
   "id": "469d8026",
   "metadata": {},
   "outputs": [
    {
     "name": "stdout",
     "output_type": "stream",
     "text": [
      "9704\n"
     ]
    }
   ],
   "source": [
    "data.count()\n",
    "data.isna().sum()\n",
    "\n",
    "num_records = data['engine_displacement'].count()\n",
    "print(num_records)"
   ]
  },
  {
   "cell_type": "markdown",
   "id": "e2f8fc94",
   "metadata": {},
   "source": [
    "### Q3. Fuel Types"
   ]
  },
  {
   "cell_type": "code",
   "execution_count": 38,
   "id": "1bfe8e2e",
   "metadata": {},
   "outputs": [
    {
     "name": "stdout",
     "output_type": "stream",
     "text": [
      "2\n"
     ]
    }
   ],
   "source": [
    "fuel_types_num = data['fuel_type'].nunique()\n",
    "print(fuel_types_num)"
   ]
  },
  {
   "cell_type": "markdown",
   "id": "10081e7c",
   "metadata": {},
   "source": [
    "### Q4. Missing Values"
   ]
  },
  {
   "cell_type": "code",
   "execution_count": 39,
   "id": "e2598ad8",
   "metadata": {},
   "outputs": [
    {
     "name": "stdout",
     "output_type": "stream",
     "text": [
      "4\n"
     ]
    }
   ],
   "source": [
    "num_cols_na = sum(data.isna().sum() > 0)\n",
    "print(num_cols_na)"
   ]
  },
  {
   "cell_type": "markdown",
   "id": "6a6631e8",
   "metadata": {},
   "source": [
    "### Q5. Max Fuel Efficiency"
   ]
  },
  {
   "cell_type": "code",
   "execution_count": 40,
   "id": "80dc1da1",
   "metadata": {},
   "outputs": [
    {
     "name": "stdout",
     "output_type": "stream",
     "text": [
      "23.759122836520497\n"
     ]
    }
   ],
   "source": [
    "cars_from_asia = data[data['origin'] == 'Asia']['fuel_efficiency_mpg'].max()\n",
    "print(cars_from_asia)"
   ]
  },
  {
   "cell_type": "markdown",
   "id": "2debe946",
   "metadata": {},
   "source": [
    "### Q6. Median value of horsepower"
   ]
  },
  {
   "cell_type": "code",
   "execution_count": null,
   "id": "83c770ce",
   "metadata": {},
   "outputs": [
    {
     "name": "stdout",
     "output_type": "stream",
     "text": [
      "149.0\n",
      "149.0 152.0 0\n"
     ]
    },
    {
     "name": "stderr",
     "output_type": "stream",
     "text": [
      "/var/folders/5_/kkhp61cd4z516r63rwf760pr0000gn/T/ipykernel_27948/2062229242.py:4: FutureWarning: Calling int on a single element Series is deprecated and will raise a TypeError in the future. Use int(ser.iloc[0]) instead\n",
      "  mode = int(data['horsepower'].mode())\n"
     ]
    }
   ],
   "source": [
    "\n",
    "median_hp_1 = data['horsepower'].median()\n",
    "print(median_hp_1)\n",
    "\n",
    "mode = int(data['horsepower'].mode())\n",
    "int(mode)\n",
    "\n",
    "data['horsepower'] = data['horsepower'].fillna(mode)\n",
    "data['horsepower'].isna()\n",
    "\n",
    "na_count = data['horsepower'].isna().sum()\n",
    "median_hp_2 = data['horsepower'].median()\n",
    "median_hp_2\n",
    "\n",
    "print(median_hp_1, median_hp_2, na_count)\n"
   ]
  },
  {
   "cell_type": "markdown",
   "id": "23213150",
   "metadata": {},
   "source": [
    "### Q7. Sum of weights"
   ]
  },
  {
   "cell_type": "code",
   "execution_count": 43,
   "id": "55297542",
   "metadata": {},
   "outputs": [
    {
     "name": "stdout",
     "output_type": "stream",
     "text": [
      "0.5187709081074006\n"
     ]
    }
   ],
   "source": [
    "asia_cars = data[data['origin'] == 'Asia'][['vehicle_weight', 'model_year']]\n",
    "first_7 = asia_cars.head(7)\n",
    "x = first_7.values\n",
    "\n",
    "XT = x.T\n",
    "\n",
    "XTx = XT.dot(x)\n",
    "\n",
    "inverse = np.linalg.inv(XTx)\n",
    "\n",
    "y = np.array([1100, 1300, 800, 900, 1000, 1100, 1200])\n",
    "\n",
    "m = (inverse.dot(XT).dot(y)).sum()\n",
    "print(m)"
   ]
  }
 ],
 "metadata": {
  "kernelspec": {
   "display_name": ".venv",
   "language": "python",
   "name": "python3"
  },
  "language_info": {
   "codemirror_mode": {
    "name": "ipython",
    "version": 3
   },
   "file_extension": ".py",
   "mimetype": "text/x-python",
   "name": "python",
   "nbconvert_exporter": "python",
   "pygments_lexer": "ipython3",
   "version": "3.9.6"
  }
 },
 "nbformat": 4,
 "nbformat_minor": 5
}
